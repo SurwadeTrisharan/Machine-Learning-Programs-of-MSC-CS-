{
 "cells": [
  {
   "cell_type": "code",
   "execution_count": 2,
   "id": "a43bc6f9-a1c5-4964-a58d-99103e43bace",
   "metadata": {},
   "outputs": [],
   "source": [
    "import pandas as pd\n",
    "import numpy as np\n",
    "from sklearn.preprocessing import MinMaxScaler\n",
    "from sklearn.preprocessing import StandardScaler"
   ]
  },
  {
   "cell_type": "code",
   "execution_count": 4,
   "id": "f43d1bd8-eaf0-4e3c-9d06-f654686076bc",
   "metadata": {},
   "outputs": [
    {
     "data": {
      "text/html": [
       "<div>\n",
       "<style scoped>\n",
       "    .dataframe tbody tr th:only-of-type {\n",
       "        vertical-align: middle;\n",
       "    }\n",
       "\n",
       "    .dataframe tbody tr th {\n",
       "        vertical-align: top;\n",
       "    }\n",
       "\n",
       "    .dataframe thead th {\n",
       "        text-align: right;\n",
       "    }\n",
       "</style>\n",
       "<table border=\"1\" class=\"dataframe\">\n",
       "  <thead>\n",
       "    <tr style=\"text-align: right;\">\n",
       "      <th></th>\n",
       "      <th>Features</th>\n",
       "    </tr>\n",
       "  </thead>\n",
       "  <tbody>\n",
       "    <tr>\n",
       "      <th>0</th>\n",
       "      <td>2</td>\n",
       "    </tr>\n",
       "    <tr>\n",
       "      <th>1</th>\n",
       "      <td>4</td>\n",
       "    </tr>\n",
       "    <tr>\n",
       "      <th>2</th>\n",
       "      <td>9</td>\n",
       "    </tr>\n",
       "    <tr>\n",
       "      <th>3</th>\n",
       "      <td>16</td>\n",
       "    </tr>\n",
       "    <tr>\n",
       "      <th>4</th>\n",
       "      <td>25</td>\n",
       "    </tr>\n",
       "    <tr>\n",
       "      <th>5</th>\n",
       "      <td>36</td>\n",
       "    </tr>\n",
       "    <tr>\n",
       "      <th>6</th>\n",
       "      <td>49</td>\n",
       "    </tr>\n",
       "    <tr>\n",
       "      <th>7</th>\n",
       "      <td>64</td>\n",
       "    </tr>\n",
       "    <tr>\n",
       "      <th>8</th>\n",
       "      <td>81</td>\n",
       "    </tr>\n",
       "    <tr>\n",
       "      <th>9</th>\n",
       "      <td>100</td>\n",
       "    </tr>\n",
       "  </tbody>\n",
       "</table>\n",
       "</div>"
      ],
      "text/plain": [
       "   Features\n",
       "0         2\n",
       "1         4\n",
       "2         9\n",
       "3        16\n",
       "4        25\n",
       "5        36\n",
       "6        49\n",
       "7        64\n",
       "8        81\n",
       "9       100"
      ]
     },
     "execution_count": 4,
     "metadata": {},
     "output_type": "execute_result"
    }
   ],
   "source": [
    "data = {'Features' : [1,2,3,4,5,6,7,8,9,10],\n",
    "        'Features' : [2,4,9,16,25,36,49,64,81,100]}\n",
    "df = pd.DataFrame(data)\n",
    "df"
   ]
  },
  {
   "cell_type": "code",
   "execution_count": 7,
   "id": "7c16f19f-8161-47be-a2fe-4ee54eacb813",
   "metadata": {},
   "outputs": [
    {
     "name": "stdout",
     "output_type": "stream",
     "text": [
      "   Features\n",
      "0  0.000000\n",
      "1  0.020408\n",
      "2  0.071429\n",
      "3  0.142857\n",
      "4  0.234694\n",
      "5  0.346939\n",
      "6  0.479592\n",
      "7  0.632653\n",
      "8  0.806122\n",
      "9  1.000000\n"
     ]
    }
   ],
   "source": [
    "scaler= MinMaxScaler()\n",
    "scaler_data = scaler.fit_transform(df)\n",
    "scaler_df= pd.DataFrame(scaler_data, columns =df.columns)\n",
    "print(scaler_df)"
   ]
  },
  {
   "cell_type": "code",
   "execution_count": 9,
   "id": "3eba648a-1f56-4622-8c1a-1aaf0025b541",
   "metadata": {},
   "outputs": [
    {
     "name": "stdout",
     "output_type": "stream",
     "text": [
      "   Features\n",
      "0 -1.132937\n",
      "1 -1.071028\n",
      "2 -0.916255\n",
      "3 -0.699573\n",
      "4 -0.420982\n",
      "5 -0.080482\n",
      "6  0.321927\n",
      "7  0.786246\n",
      "8  1.312473\n",
      "9  1.900610\n"
     ]
    }
   ],
   "source": [
    "scaler = StandardScaler()\n",
    "scaler_data =  scaler.fit_transform(df)\n",
    "scaler_df = pd.DataFrame(scaler_data, columns= df.columns)\n",
    "print(scaler_df)"
   ]
  },
  {
   "cell_type": "code",
   "execution_count": null,
   "id": "9ff59892-7b92-4e26-98d7-f7e590b156fe",
   "metadata": {},
   "outputs": [],
   "source": []
  }
 ],
 "metadata": {
  "kernelspec": {
   "display_name": "Python 3 (ipykernel)",
   "language": "python",
   "name": "python3"
  },
  "language_info": {
   "codemirror_mode": {
    "name": "ipython",
    "version": 3
   },
   "file_extension": ".py",
   "mimetype": "text/x-python",
   "name": "python",
   "nbconvert_exporter": "python",
   "pygments_lexer": "ipython3",
   "version": "3.12.4"
  }
 },
 "nbformat": 4,
 "nbformat_minor": 5
}
