{
 "cells": [
  {
   "cell_type": "code",
   "execution_count": 1,
   "id": "e93dc8e9-3b65-4b55-ae7a-b83bbccb5843",
   "metadata": {},
   "outputs": [],
   "source": [
    "#Write program to calculate the Gini Index attribute Selection Measure used in the construction of a decision tree.\n",
    "import pandas as pd\n",
    "import numpy as np"
   ]
  },
  {
   "cell_type": "code",
   "execution_count": 2,
   "id": "d4ae9f7f-d3f0-46bf-8285-66d4e01f9d6c",
   "metadata": {},
   "outputs": [],
   "source": [
    "data = pd.read_csv('PlayTennis.csv')\n",
    "def gini_index(data):\n",
    "    total_samples = len(data)\n",
    "    if total_samples == 0:\n",
    "        return 0.0\n",
    "    value_counts=data.value_counts()\n",
    "    gini = 1.0 -sum((count/total_samples)**2 for count in value_counts)\n",
    "    return gini"
   ]
  },
  {
   "cell_type": "code",
   "execution_count": 3,
   "id": "c6d7aec5-cd42-4851-9119-9361c67bd8cf",
   "metadata": {},
   "outputs": [
    {
     "name": "stdout",
     "output_type": "stream",
     "text": [
      "\n",
      "Weighted Gini Index for each attribute:\n",
      "Weighted Gini Index for 'outlook': 0.3429\n",
      "Weighted Gini Index for 'temp': 0.4405\n",
      "Weighted Gini Index for 'humidity': 0.3673\n",
      "Weighted Gini Index for 'windy': 0.4286\n"
     ]
    }
   ],
   "source": [
    "#Calculate weightes Gini index for each attribute\n",
    "print(\"\\nWeighted Gini Index for each attribute:\")\n",
    "for column in data.columns[:-1]:\n",
    "    weighted_gini = 0\n",
    "    for value in data[column].unique():\n",
    "        subset = data[data[column] == value]['play']\n",
    "        weight = len(subset) / len(data)\n",
    "        weighted_gini += weight * gini_index(subset)\n",
    "    print(f\"Weighted Gini Index for '{column}': {weighted_gini:.4f}\")\n"
   ]
  },
  {
   "cell_type": "code",
   "execution_count": null,
   "id": "5b4f49a2-aaa2-4570-a4fe-4e0981c212e8",
   "metadata": {},
   "outputs": [],
   "source": []
  }
 ],
 "metadata": {
  "kernelspec": {
   "display_name": "Python 3 (ipykernel)",
   "language": "python",
   "name": "python3"
  },
  "language_info": {
   "codemirror_mode": {
    "name": "ipython",
    "version": 3
   },
   "file_extension": ".py",
   "mimetype": "text/x-python",
   "name": "python",
   "nbconvert_exporter": "python",
   "pygments_lexer": "ipython3",
   "version": "3.12.4"
  }
 },
 "nbformat": 4,
 "nbformat_minor": 5
}
