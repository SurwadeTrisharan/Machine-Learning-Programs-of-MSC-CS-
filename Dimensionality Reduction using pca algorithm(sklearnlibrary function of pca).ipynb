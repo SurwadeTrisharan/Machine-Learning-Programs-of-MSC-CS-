{
 "cells": [
  {
   "cell_type": "code",
   "execution_count": 1,
   "id": "de4fb98f-b665-408f-877a-c44103e0b304",
   "metadata": {},
   "outputs": [],
   "source": [
    "#Dimensionalityt reduction usint pca algorithm(sklearn library function)\n",
    "import numpy as np\n",
    "import pandas as pd\n",
    "from sklearn.decomposition import PCA \n",
    "import matplotlib.pyplot as plt"
   ]
  },
  {
   "cell_type": "code",
   "execution_count": 2,
   "id": "bd841b52-9615-4f3b-b5c0-51131bed7643",
   "metadata": {},
   "outputs": [
    {
     "name": "stdout",
     "output_type": "stream",
     "text": [
      "     Sepal_Length  Sepal_Width  Petal_Length  Petal_Width      Class\n",
      "0             5.1          3.5           1.4          0.2     Setosa\n",
      "1             4.9          3.0           1.4          0.2     Setosa\n",
      "2             4.7          3.2           1.3          0.2     Setosa\n",
      "3             4.6          3.1           1.5          0.2     Setosa\n",
      "4             5.0          3.6           1.4          0.2     Setosa\n",
      "..            ...          ...           ...          ...        ...\n",
      "145           6.7          3.0           5.2          2.3  Virginica\n",
      "146           6.3          2.5           5.0          1.9  Virginica\n",
      "147           6.5          3.0           5.2          2.0  Virginica\n",
      "148           6.2          3.4           5.4          2.3  Virginica\n",
      "149           5.9          3.0           5.1          1.8  Virginica\n",
      "\n",
      "[150 rows x 5 columns]\n"
     ]
    }
   ],
   "source": [
    "#Loadinig Dataset\n",
    "data =pd.read_csv('iris.csv')\n",
    "print(data)"
   ]
  },
  {
   "cell_type": "code",
   "execution_count": 13,
   "id": "21e2ad1f-4e4d-46b3-87ee-9eb51fca5c61",
   "metadata": {},
   "outputs": [
    {
     "name": "stdout",
     "output_type": "stream",
     "text": [
      "Original Data:\n",
      "     Sepal_Length  Sepal_Width  Petal_Length  Petal_Width\n",
      "0             5.1          3.5           1.4          0.2\n",
      "1             4.9          3.0           1.4          0.2\n",
      "2             4.7          3.2           1.3          0.2\n",
      "3             4.6          3.1           1.5          0.2\n",
      "4             5.0          3.6           1.4          0.2\n",
      "..            ...          ...           ...          ...\n",
      "145           6.7          3.0           5.2          2.3\n",
      "146           6.3          2.5           5.0          1.9\n",
      "147           6.5          3.0           5.2          2.0\n",
      "148           6.2          3.4           5.4          2.3\n",
      "149           5.9          3.0           5.1          1.8\n",
      "\n",
      "[150 rows x 4 columns]\n"
     ]
    }
   ],
   "source": [
    "X=data.drop('Class', axis=1)\n",
    "print('Original Data:')\n",
    "print(X)"
   ]
  },
  {
   "cell_type": "code",
   "execution_count": 14,
   "id": "bfd9abf2-813b-496d-bb44-3c906065813f",
   "metadata": {},
   "outputs": [],
   "source": [
    "#Initialize Pca with 2 components\n",
    "pca = PCA(n_components=2)"
   ]
  },
  {
   "cell_type": "code",
   "execution_count": 16,
   "id": "d2eea0d7-2e38-4975-a1ed-8cb715ef9f20",
   "metadata": {},
   "outputs": [],
   "source": [
    "X_pca = pca.fit_transform(X)\n",
    "pca_df = pd.DataFrame(data=X_pca,columns=['PC1','PC2'])"
   ]
  },
  {
   "cell_type": "code",
   "execution_count": 19,
   "id": "505c5240-0c6e-4d0e-bfc3-6c05e9969ae1",
   "metadata": {},
   "outputs": [
    {
     "name": "stdout",
     "output_type": "stream",
     "text": [
      "\n",
      "Transformed Data (Frist two principal components):\n",
      "First principal Component:\n",
      "0     -2.684126\n",
      "1     -2.714142\n",
      "2     -2.888991\n",
      "3     -2.745343\n",
      "4     -2.728717\n",
      "         ...   \n",
      "145    1.944110\n",
      "146    1.527167\n",
      "147    1.764346\n",
      "148    1.900942\n",
      "149    1.390189\n",
      "Name: PC1, Length: 150, dtype: float64\n",
      "\n",
      "Second Principal Component:\n",
      "0      0.319397\n",
      "1     -0.177001\n",
      "2     -0.144949\n",
      "3     -0.318299\n",
      "4      0.326755\n",
      "         ...   \n",
      "145    0.187532\n",
      "146   -0.375317\n",
      "147    0.078859\n",
      "148    0.116628\n",
      "149   -0.282661\n",
      "Name: PC2, Length: 150, dtype: float64\n"
     ]
    }
   ],
   "source": [
    "print('\\nTransformed Data (Frist two principal components):')\n",
    "print('First principal Component:')\n",
    "print(pca_df['PC1'])\n",
    "print('\\nSecond Principal Component:')\n",
    "print(pca_df['PC2'])"
   ]
  },
  {
   "cell_type": "code",
   "execution_count": null,
   "id": "6195bf81-ed82-4436-93b4-d4a14c395293",
   "metadata": {},
   "outputs": [],
   "source": []
  }
 ],
 "metadata": {
  "kernelspec": {
   "display_name": "Python 3 (ipykernel)",
   "language": "python",
   "name": "python3"
  },
  "language_info": {
   "codemirror_mode": {
    "name": "ipython",
    "version": 3
   },
   "file_extension": ".py",
   "mimetype": "text/x-python",
   "name": "python",
   "nbconvert_exporter": "python",
   "pygments_lexer": "ipython3",
   "version": "3.12.4"
  }
 },
 "nbformat": 4,
 "nbformat_minor": 5
}
