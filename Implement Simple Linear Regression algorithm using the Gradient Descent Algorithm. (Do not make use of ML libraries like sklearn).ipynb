{
 "cells": [
  {
   "cell_type": "code",
   "execution_count": 1,
   "id": "50c81792-4572-489c-a6e1-d52495d83cdd",
   "metadata": {},
   "outputs": [],
   "source": [
    "import numpy as np"
   ]
  },
  {
   "cell_type": "code",
   "execution_count": 2,
   "id": "6ec54b16-5ec2-4b1f-8435-6fe08dcad74f",
   "metadata": {},
   "outputs": [],
   "source": [
    "X=np.array([(1,1,1,1,1,1,1,1,1),(1,2,3,4,5,6,7,8,9)]).transpose()\n",
    "Y=np.array([(2,7,6,12,14,8,14,20,18)]).transpose()"
   ]
  },
  {
   "cell_type": "code",
   "execution_count": 3,
   "id": "4b042b11-efcb-4b3d-b633-5204012fc1fc",
   "metadata": {},
   "outputs": [],
   "source": [
    "m=9\n",
    "theta=np.array([(0.0,0.0)]).transpose()"
   ]
  },
  {
   "cell_type": "code",
   "execution_count": 4,
   "id": "685eda3e-bb70-46a8-aedd-023d1c3d7959",
   "metadata": {},
   "outputs": [
    {
     "name": "stdout",
     "output_type": "stream",
     "text": [
      "h(x) =1.64 + 1.92x1\n"
     ]
    }
   ],
   "source": [
    "def gradientDescent(X,y,theta,alpha,num_iters):\n",
    "    for i in range(num_iters):\n",
    "        theta=theta+alpha*1/m*np.dot(X.transpose(),( Y-X.dot(theta)))\n",
    "    return theta\n",
    "\n",
    "theta = gradientDescent(X,Y,theta,0.01,3000)\n",
    "print(\"h(x) =\"+str(round(theta[0,0],2))+\" + \"+str(round(theta[1,0],2))+\"x1\")"
   ]
  },
  {
   "cell_type": "code",
   "execution_count": null,
   "id": "e1222003-9c48-461f-a6e2-981c70b962ed",
   "metadata": {},
   "outputs": [],
   "source": []
  }
 ],
 "metadata": {
  "kernelspec": {
   "display_name": "Python 3 (ipykernel)",
   "language": "python",
   "name": "python3"
  },
  "language_info": {
   "codemirror_mode": {
    "name": "ipython",
    "version": 3
   },
   "file_extension": ".py",
   "mimetype": "text/x-python",
   "name": "python",
   "nbconvert_exporter": "python",
   "pygments_lexer": "ipython3",
   "version": "3.12.4"
  }
 },
 "nbformat": 4,
 "nbformat_minor": 5
}
